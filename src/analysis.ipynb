{
 "cells": [
  {
   "cell_type": "markdown",
   "metadata": {},
   "source": [
    "# Processing of the raw data"
   ]
  },
  {
   "cell_type": "code",
   "execution_count": 1,
   "metadata": {},
   "outputs": [],
   "source": [
    "import pandas as pd\n",
    "\n",
    "DATA_ORIG = \"../data/00_original\"\n",
    "DATA_DIR = \"../data/01_process\""
   ]
  },
  {
   "cell_type": "markdown",
   "metadata": {},
   "source": [
    "## Loading files"
   ]
  },
  {
   "cell_type": "code",
   "execution_count": 2,
   "metadata": {},
   "outputs": [],
   "source": [
    "data = pd.read_csv(f\"{DATA_DIR}/data_table.tsv\", sep=\"\\t\", names=[\"Student\", \"Word\", \"Hangul\", \"Romanized\", \"KO\"])\n",
    "pt_phon = pd.read_excel(f\"{DATA_ORIG}/pt_words_phon.xlsx\", names=[\"Word\", \"PT\"], index_col=\"Word\").to_dict()['PT']\n",
    "data[\"PT\"] = data.apply(lambda row: pt_phon[row.Word], axis=1)\n",
    "data = data[[\"Student\", \"Word\", \"PT\", \"Hangul\", \"Romanized\", \"KO\"]]"
   ]
  },
  {
   "cell_type": "code",
   "execution_count": 3,
   "metadata": {},
   "outputs": [],
   "source": [
    "ptphon = data[\"PT\"]\n",
    "def contain(series, what): return series.map(lambda x: what in x)\n",
    "\n",
    "unstressed_o = data.loc[contain(ptphon, \"ʊ\")]\n",
    "unstressed_e = data.loc[contain(ptphon, \"ɪ\")]"
   ]
  },
  {
   "cell_type": "code",
   "execution_count": 4,
   "metadata": {},
   "outputs": [
    {
     "output_type": "execute_result",
     "data": {
      "text/plain": "    Student     Word          PT Hangul         Romanized              KO\n15        0     zelo      ˈze.lʊ    지에루         ci.ey.lwu        tɕi.ɛ.lu\n16        0     gelo      ˈʒe.lʊ    쥐엘루       cwi.eyl.lwu       tɕʏ.ɛl.lu\n25        0     bolo      ˈbo.lʊ     울루           wul.lwu           ul.lu\n27        0  líquido   ˈli.ki.dʊ    딕끼두       tik.kki.twu      tik.k͈i.tu\n28        0  liquido   li.ˈki.dʊ    딕끼뚜      tik.kki.ttwu     tik.k͈i.t͈u\n29        0  liqüido  li.ˈkʷi.dʊ    딕뀌두      tik.kkwi.twu      tik.k͈ʏ.tu\n30        0     pato      ˈpa.tʊ     빠뚜          ppa.ttwu         p͈a.t͈u\n37        0    cheio      ˈʃej.ʊ    셰이우         syey.i.wu         sjɛ.i.u\n38        0     seio      ˈsej.ʊ    쎄이우         ssey.i.wu         s͈ɛ.i.u\n51        0   pacato   pa.ˈka.tʊ    빠까뚜      ppa.kka.ttwu     p͈a.k͈a.t͈u\n54        0  talento  ta.ˈlẽ.tʊ   딸리엔뚜  ttal.li.eyn.ttwu  t͈al.li.ɛn.t͈u\n55        0  daquilo   da.ˈki.lʊ    다낄루       ta.kkil.lwu      ta.k͈il.lu\n56        0  daquilo   da.ˈki.lʊ   다끼엘루    ta.kki.eyl.lwu    ta.k͈i.ɛl.lu\n57        0  naquilo   na.ˈki.lʊ   나끼엘루    na.kki.eyl.lwu    na.k͈i.ɛl.lu",
      "text/html": "<div>\n<style scoped>\n    .dataframe tbody tr th:only-of-type {\n        vertical-align: middle;\n    }\n\n    .dataframe tbody tr th {\n        vertical-align: top;\n    }\n\n    .dataframe thead th {\n        text-align: right;\n    }\n</style>\n<table border=\"1\" class=\"dataframe\">\n  <thead>\n    <tr style=\"text-align: right;\">\n      <th></th>\n      <th>Student</th>\n      <th>Word</th>\n      <th>PT</th>\n      <th>Hangul</th>\n      <th>Romanized</th>\n      <th>KO</th>\n    </tr>\n  </thead>\n  <tbody>\n    <tr>\n      <th>15</th>\n      <td>0</td>\n      <td>zelo</td>\n      <td>ˈze.lʊ</td>\n      <td>지에루</td>\n      <td>ci.ey.lwu</td>\n      <td>tɕi.ɛ.lu</td>\n    </tr>\n    <tr>\n      <th>16</th>\n      <td>0</td>\n      <td>gelo</td>\n      <td>ˈʒe.lʊ</td>\n      <td>쥐엘루</td>\n      <td>cwi.eyl.lwu</td>\n      <td>tɕʏ.ɛl.lu</td>\n    </tr>\n    <tr>\n      <th>25</th>\n      <td>0</td>\n      <td>bolo</td>\n      <td>ˈbo.lʊ</td>\n      <td>울루</td>\n      <td>wul.lwu</td>\n      <td>ul.lu</td>\n    </tr>\n    <tr>\n      <th>27</th>\n      <td>0</td>\n      <td>líquido</td>\n      <td>ˈli.ki.dʊ</td>\n      <td>딕끼두</td>\n      <td>tik.kki.twu</td>\n      <td>tik.k͈i.tu</td>\n    </tr>\n    <tr>\n      <th>28</th>\n      <td>0</td>\n      <td>liquido</td>\n      <td>li.ˈki.dʊ</td>\n      <td>딕끼뚜</td>\n      <td>tik.kki.ttwu</td>\n      <td>tik.k͈i.t͈u</td>\n    </tr>\n    <tr>\n      <th>29</th>\n      <td>0</td>\n      <td>liqüido</td>\n      <td>li.ˈkʷi.dʊ</td>\n      <td>딕뀌두</td>\n      <td>tik.kkwi.twu</td>\n      <td>tik.k͈ʏ.tu</td>\n    </tr>\n    <tr>\n      <th>30</th>\n      <td>0</td>\n      <td>pato</td>\n      <td>ˈpa.tʊ</td>\n      <td>빠뚜</td>\n      <td>ppa.ttwu</td>\n      <td>p͈a.t͈u</td>\n    </tr>\n    <tr>\n      <th>37</th>\n      <td>0</td>\n      <td>cheio</td>\n      <td>ˈʃej.ʊ</td>\n      <td>셰이우</td>\n      <td>syey.i.wu</td>\n      <td>sjɛ.i.u</td>\n    </tr>\n    <tr>\n      <th>38</th>\n      <td>0</td>\n      <td>seio</td>\n      <td>ˈsej.ʊ</td>\n      <td>쎄이우</td>\n      <td>ssey.i.wu</td>\n      <td>s͈ɛ.i.u</td>\n    </tr>\n    <tr>\n      <th>51</th>\n      <td>0</td>\n      <td>pacato</td>\n      <td>pa.ˈka.tʊ</td>\n      <td>빠까뚜</td>\n      <td>ppa.kka.ttwu</td>\n      <td>p͈a.k͈a.t͈u</td>\n    </tr>\n    <tr>\n      <th>54</th>\n      <td>0</td>\n      <td>talento</td>\n      <td>ta.ˈlẽ.tʊ</td>\n      <td>딸리엔뚜</td>\n      <td>ttal.li.eyn.ttwu</td>\n      <td>t͈al.li.ɛn.t͈u</td>\n    </tr>\n    <tr>\n      <th>55</th>\n      <td>0</td>\n      <td>daquilo</td>\n      <td>da.ˈki.lʊ</td>\n      <td>다낄루</td>\n      <td>ta.kkil.lwu</td>\n      <td>ta.k͈il.lu</td>\n    </tr>\n    <tr>\n      <th>56</th>\n      <td>0</td>\n      <td>daquilo</td>\n      <td>da.ˈki.lʊ</td>\n      <td>다끼엘루</td>\n      <td>ta.kki.eyl.lwu</td>\n      <td>ta.k͈i.ɛl.lu</td>\n    </tr>\n    <tr>\n      <th>57</th>\n      <td>0</td>\n      <td>naquilo</td>\n      <td>na.ˈki.lʊ</td>\n      <td>나끼엘루</td>\n      <td>na.kki.eyl.lwu</td>\n      <td>na.k͈i.ɛl.lu</td>\n    </tr>\n  </tbody>\n</table>\n</div>"
     },
     "metadata": {},
     "execution_count": 4
    }
   ],
   "source": [
    "unstressed_o"
   ]
  },
  {
   "cell_type": "code",
   "execution_count": 5,
   "metadata": {},
   "outputs": [],
   "source": [
    "table_pt_ko = data.pivot_table(index=\"PT\", columns=\"Student\", values=[\"KO\"], aggfunc=lambda x: \", \".join(x))"
   ]
  },
  {
   "cell_type": "code",
   "execution_count": 6,
   "metadata": {},
   "outputs": [],
   "source": [
    "table_pt_ko.to_excel(f\"{DATA_DIR}/table_pt_ko.xlsx\")"
   ]
  }
 ],
 "metadata": {
  "kernelspec": {
   "display_name": "Python 3",
   "language": "python",
   "name": "python3"
  },
  "language_info": {
   "codemirror_mode": {
    "name": "ipython",
    "version": 3
   },
   "file_extension": ".py",
   "mimetype": "text/x-python",
   "name": "python",
   "nbconvert_exporter": "python",
   "pygments_lexer": "ipython3",
   "version": "3.6.9-final"
  }
 },
 "nbformat": 4,
 "nbformat_minor": 4
}