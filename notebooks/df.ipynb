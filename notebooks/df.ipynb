{
 "cells": [
  {
   "cell_type": "code",
   "execution_count": null,
   "metadata": {},
   "outputs": [],
   "source": [
    "import pandas as pd\n",
    "import matplotlib\n",
    "import matplotlib.pyplot as plt\n",
    "import warnings; warnings.simplefilter('ignore')\n",
    "%matplotlib inline\n",
    "\n",
    "matplotlib.rcParams['font.sans-serif'] = [\"FreeSans\", \"UnDotum\"]\n",
    "matplotlib.rcParams['font.family'] = [\"FreeSans\", \"UnDotum\"]"
   ]
  },
  {
   "cell_type": "code",
   "execution_count": null,
   "metadata": {},
   "outputs": [],
   "source": [
    "IN = \"../data/data.tsv\""
   ]
  },
  {
   "cell_type": "code",
   "execution_count": null,
   "metadata": {},
   "outputs": [],
   "source": [
    "data = pd.read_csv(IN, sep=\"\\t\", index_col=0)"
   ]
  },
  {
   "cell_type": "code",
   "execution_count": null,
   "metadata": {},
   "outputs": [],
   "source": [
    "data"
   ]
  },
  {
   "cell_type": "code",
   "execution_count": null,
   "metadata": {},
   "outputs": [],
   "source": [
    "ct = pd.crosstab([data.Orth, data.PT], [data.Orth, data.Yale, data.KO])\n",
    "ct = pd.DataFrame(ct.max())\n",
    "ct = ct[ct[0] > 5]\n",
    "ct.columns = ['count']\n",
    "ct = ct.sort_values(['count'], ascending=[False])\n",
    "ct.plot.bar(figsize=(25,5))"
   ]
  },
  {
   "cell_type": "code",
   "execution_count": null,
   "metadata": {
    "scrolled": false
   },
   "outputs": [],
   "source": [
    "ct = pd.crosstab([data.Orth, data.PT], [data.Orth, data.Yale, data.KO])\n",
    "ct = pd.DataFrame(ct.max())\n",
    "ct = ct[ct[0] <= 5]\n",
    "ct.columns = ['count']\n",
    "ct = ct.sort_values(['count'], ascending=[False])\n",
    "ct.plot.bar(figsize=(25,5))"
   ]
  }
 ],
 "metadata": {
  "kernelspec": {
   "display_name": "Python 3.8.2 64-bit ('.venv': venv)",
   "language": "python",
   "name": "python38264bitvenvvenv47416c0bb5e043738d7db832990ce2e7"
  },
  "language_info": {
   "codemirror_mode": {
    "name": "ipython",
    "version": 3
   },
   "file_extension": ".py",
   "mimetype": "text/x-python",
   "name": "python",
   "nbconvert_exporter": "python",
   "pygments_lexer": "ipython3",
   "version": "3.8.2"
  }
 },
 "nbformat": 4,
 "nbformat_minor": 4
}
